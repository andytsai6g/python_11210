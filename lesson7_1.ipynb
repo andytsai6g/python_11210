{
 "cells": [
  {
   "cell_type": "code",
   "execution_count": 2,
   "metadata": {},
   "outputs": [],
   "source": [
    "def menu(wine:str, entree:str, dessert:str)->None:\n",
    "    print(f\"主餐:{entree}\")\n",
    "    print(f\"酒:{wine}\")\n",
    "    print(f\"甜點:{dessert}\")"
   ]
  },
  {
   "cell_type": "code",
   "execution_count": 3,
   "metadata": {},
   "outputs": [
    {
     "name": "stdout",
     "output_type": "stream",
     "text": [
      "主餐:威士忌\n",
      "酒:牛肉\n",
      "甜點:布丁\n"
     ]
    }
   ],
   "source": [
    "menu('牛肉','威士忌','布丁') "
   ]
  },
  {
   "cell_type": "code",
   "execution_count": null,
   "metadata": {},
   "outputs": [],
   "source": []
  }
 ],
 "metadata": {
  "kernelspec": {
   "display_name": "Python 3",
   "language": "python",
   "name": "python3"
  },
  "language_info": {
   "codemirror_mode": {
    "name": "ipython",
    "version": 3
   },
   "file_extension": ".py",
   "mimetype": "text/x-python",
   "name": "python",
   "nbconvert_exporter": "python",
   "pygments_lexer": "ipython3",
   "version": "3.10.13"
  }
 },
 "nbformat": 4,
 "nbformat_minor": 2
}
