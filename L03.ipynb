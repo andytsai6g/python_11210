{
 "cells": [
  {
   "cell_type": "code",
   "execution_count": 2,
   "metadata": {},
   "outputs": [
    {
     "name": "stdout",
     "output_type": "stream",
     "text": [
      "Hello Python\n"
     ]
    }
   ],
   "source": [
    "print(\"Hello Python\")"
   ]
  },
  {
   "cell_type": "code",
   "execution_count": 19,
   "metadata": {},
   "outputs": [
    {
     "name": "stdout",
     "output_type": "stream",
     "text": [
      "-4.5\n"
     ]
    }
   ],
   "source": [
    "x=-9\n",
    "y=2\n",
    "if x >= 0:\n",
    "    root =x ** 1/y\n",
    "    print(\"不是負數\")   \n",
    "else: \n",
    "    if x % 2 == 0:\n",
    "     root=\"虛數\"   \n",
    "    else: root= -(-x) ** 1/y  \n",
    "print(root)  "
   ]
  },
  {
   "cell_type": "code",
   "execution_count": 1,
   "metadata": {},
   "outputs": [
    {
     "name": "stdout",
     "output_type": "stream",
     "text": [
      "虛數\n"
     ]
    }
   ],
   "source": [
    "##巢狀可用 elif取代\n",
    "x=-8\n",
    "y=2\n",
    "if x >= 0:\n",
    "    root =x ** 1/y\n",
    "    print(\"不是負數\")   \n",
    "elif x % 2 == 0:\n",
    "     root=\"虛數\"   \n",
    "else: root= -(-x) ** 1/y  \n",
    "print(root)  "
   ]
  },
  {
   "cell_type": "code",
   "execution_count": 30,
   "metadata": {},
   "outputs": [
    {
     "ename": "IndentationError",
     "evalue": "unexpected indent (2258654769.py, line 16)",
     "output_type": "error",
     "traceback": [
      "\u001b[0;36m  Cell \u001b[0;32mIn[30], line 16\u001b[0;36m\u001b[0m\n\u001b[0;31m    dis  =0.95\u001b[0m\n\u001b[0m    ^\u001b[0m\n\u001b[0;31mIndentationError\u001b[0m\u001b[0;31m:\u001b[0m unexpected indent\n"
     ]
    }
   ],
   "source": [
    "##周年慶折扣\n",
    "x=330000\n",
    "if x >= 100000:\n",
    "    root =x *0.8 \n",
    "    dis  =0.8    \n",
    "elif x>= 50000:\n",
    "    root =x *0.85 \n",
    "    dis  =0.85    \n",
    "elif x>= 30000:\n",
    "    root =x *0.9 \n",
    "    dis  =0.9   \n",
    "elif x>= 10000:\n",
    "    root =x *0.95\n",
    "    dis  =0.95    \n",
    "else: root= x \n",
    "    dis  =0.95  \n",
    "\n",
    "print(root,dis)"
   ]
  }
 ],
 "metadata": {
  "kernelspec": {
   "display_name": "Python 3",
   "language": "python",
   "name": "python3"
  },
  "language_info": {
   "codemirror_mode": {
    "name": "ipython",
    "version": 3
   },
   "file_extension": ".py",
   "mimetype": "text/x-python",
   "name": "python",
   "nbconvert_exporter": "python",
   "pygments_lexer": "ipython3",
   "version": "3.10.13"
  }
 },
 "nbformat": 4,
 "nbformat_minor": 2
}
