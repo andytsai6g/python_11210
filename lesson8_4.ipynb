{
 "cells": [
  {
   "cell_type": "code",
   "execution_count": 1,
   "metadata": {},
   "outputs": [
    {
     "name": "stdout",
     "output_type": "stream",
     "text": [
      "<class 'str'>\n"
     ]
    }
   ],
   "source": [
    "import requests\n",
    "url = 'https://data.ntpc.gov.tw/api/datasets/4a03827a-588b-4058-ab21-ec02283e2bb7/json?size=2000'\n",
    "response = requests.get(url)\n",
    "print(type(response.text))"
   ]
  },
  {
   "cell_type": "code",
   "execution_count": 2,
   "metadata": {},
   "outputs": [
    {
     "name": "stdout",
     "output_type": "stream",
     "text": [
      "<class 'list'>\n"
     ]
    }
   ],
   "source": [
    "print(type(response.json()))"
   ]
  },
  {
   "cell_type": "code",
   "execution_count": 3,
   "metadata": {},
   "outputs": [
    {
     "name": "stdout",
     "output_type": "stream",
     "text": [
      "13\n",
      "{'city': '新北市', 'area': '三峽區', 'reading_room': '新北市立圖書館（三峽分館）', 'address': '新北市三峽區永安街9巷5號 2樓'}\n",
      "{'city': '新北市', 'area': '坪林區', 'reading_room': '新北市立圖書館（坪林分館）', 'address': '新北市坪林區國中路3號'}\n",
      "{'city': '新北市', 'area': '泰山區', 'reading_room': '新北市立圖書館（泰山分館）', 'address': '新北市泰山區全興路212號5樓'}\n",
      "{'city': '新北市', 'area': '烏來區', 'reading_room': '新北市立圖書館（烏來分館）', 'address': '新北市烏來區烏來街34號2樓'}\n",
      "{'city': '新北市', 'area': '淡水區', 'reading_room': '新北市立圖書館（淡水分館）', 'address': '新北市淡水區文化路65號'}\n",
      "{'city': '新北市', 'area': '新店區', 'reading_room': '新北市立圖書館（新店分館）', 'address': '新北市新店區北新路3段105巷2號3樓'}\n",
      "{'city': '新北市', 'area': '萬里區', 'reading_room': '新北市立圖書館（萬里分館）', 'address': '新北市萬里區瑪鋉路221號4樓'}\n",
      "{'city': '新北市', 'area': '蘆洲區', 'reading_room': '新北市立圖書館（蘆洲分館）', 'address': '新北市蘆洲區集賢路245號4樓'}\n",
      "{'city': '新北市', 'area': '鶯歌區', 'reading_room': '新北市立圖書館（鶯歌分館）', 'address': '新北市鶯歌區中山路150號3樓'}\n",
      "{'city': '新北市', 'area': '林口區', 'reading_room': '新北市立圖書館（林口分館）', 'address': '新北市林口區忠孝二路55號4樓'}\n",
      "{'city': '新北市', 'area': '板橋區', 'reading_room': '新北市立圖書總館', 'address': '新北市板橋區貴興路139號'}\n",
      "{'city': '新北市', 'area': '中和區', 'reading_room': '中央圖書館臺灣分館', 'address': '新北市中和區中安街85號'}\n",
      "{'city': '臺北市', 'area': '中正區', 'reading_room': '國家圖書館', 'address': '臺北市中山南路20號'}\n"
     ]
    }
   ],
   "source": [
    "data_list = response.json()\n",
    "print(len(data_list))\n",
    "for site in data_list:\n",
    "    print(site)"
   ]
  }
 ],
 "metadata": {
  "kernelspec": {
   "display_name": "Python 3",
   "language": "python",
   "name": "python3"
  },
  "language_info": {
   "codemirror_mode": {
    "name": "ipython",
    "version": 3
   },
   "file_extension": ".py",
   "mimetype": "text/x-python",
   "name": "python",
   "nbconvert_exporter": "python",
   "pygments_lexer": "ipython3",
   "version": "3.10.13"
  }
 },
 "nbformat": 4,
 "nbformat_minor": 2
}
