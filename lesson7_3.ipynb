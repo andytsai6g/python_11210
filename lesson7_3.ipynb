{
 "cells": [
  {
   "cell_type": "code",
   "execution_count": 1,
   "metadata": {},
   "outputs": [],
   "source": [
    "class Student():\n",
    "    pass"
   ]
  },
  {
   "cell_type": "code",
   "execution_count": null,
   "metadata": {},
   "outputs": [],
   "source": [
    "stu1 = Student()\n",
    "type(stu1)"
   ]
  },
  {
   "cell_type": "code",
   "execution_count": null,
   "metadata": {},
   "outputs": [],
   "source": [
    "__main__.Student"
   ]
  },
  {
   "cell_type": "code",
   "execution_count": null,
   "metadata": {},
   "outputs": [],
   "source": [
    "stu1.name = \"robert\"\n",
    "stu1.chinese = 78\n",
    "stu1.english = 92\n",
    "stu1.math = 82"
   ]
  },
  {
   "cell_type": "code",
   "execution_count": null,
   "metadata": {},
   "outputs": [],
   "source": [
    "stu2 = Student()\n",
    "stu2.name = \"alice\"\n",
    "stu2.chinese = 77\n",
    "stu2.english = 93\n",
    "stu2.math = 65"
   ]
  },
  {
   "cell_type": "code",
   "execution_count": null,
   "metadata": {},
   "outputs": [],
   "source": [
    "print(stu1.name)\n",
    "print(stu2.name)"
   ]
  },
  {
   "cell_type": "code",
   "execution_count": null,
   "metadata": {},
   "outputs": [],
   "source": [
    "#另A型\n",
    "class Student():\n",
    "    def __init__(self,na,ch,en,ma): #自訂的初始化\n",
    "        self.name = na\n",
    "        self.chinese = ch\n",
    "        self.english = en\n",
    "        self.math = ma"
   ]
  },
  {
   "cell_type": "code",
   "execution_count": null,
   "metadata": {},
   "outputs": [],
   "source": [
    "stu1 = Student(\"robert\",78,90,92)\n",
    "type(stu1)\n",
    "print(stu1.name)\n",
    "print(stu1.chinese)\n",
    "print(stu1.english)\n",
    "print(stu1.math)"
   ]
  },
  {
   "cell_type": "code",
   "execution_count": null,
   "metadata": {},
   "outputs": [],
   "source": [
    "stu2 = Student(\"alice\",89,92,65)\n",
    "print(stu2.name)\n",
    "print(stu2.chinese)\n",
    "print(stu2.english)\n",
    "print(stu2.math)"
   ]
  },
  {
   "cell_type": "code",
   "execution_count": null,
   "metadata": {},
   "outputs": [],
   "source": [
    "#另B型\n",
    "class Student():\n",
    "    def __init__(self,na:int,ch:int,en:int,ma:int): #自訂的初始化\n",
    "        self.name = na\n",
    "        self.chinese = ch\n",
    "        self.english = en\n",
    "        self.math = ma\n",
    "\n",
    "    def sum(self)->int: #實體方法\n",
    "        return self.chinese + self.english + self.math"
   ]
  },
  {
   "cell_type": "code",
   "execution_count": null,
   "metadata": {},
   "outputs": [],
   "source": [
    "stu1 = Student(\"robert\",78,90,92)\n",
    "type(stu1)\n",
    "print(stu1.name)\n",
    "print(stu1.chinese)\n",
    "print(stu1.english)\n",
    "print(stu1.math)\n",
    "print(stu1.sum())"
   ]
  },
  {
   "cell_type": "code",
   "execution_count": null,
   "metadata": {},
   "outputs": [],
   "source": [
    "stu2 = Student(\"alice\",89,92,65)\n",
    "print(stu2.name)\n",
    "print(stu2.chinese)\n",
    "print(stu2.english)\n",
    "print(stu2.math)\n",
    "print(stu2.sum())"
   ]
  }
 ],
 "metadata": {
  "kernelspec": {
   "display_name": "Python 3",
   "language": "python",
   "name": "python3"
  },
  "language_info": {
   "codemirror_mode": {
    "name": "ipython",
    "version": 3
   },
   "file_extension": ".py",
   "mimetype": "text/x-python",
   "name": "python",
   "nbconvert_exporter": "python",
   "pygments_lexer": "ipython3",
   "version": "3.10.13"
  }
 },
 "nbformat": 4,
 "nbformat_minor": 2
}
